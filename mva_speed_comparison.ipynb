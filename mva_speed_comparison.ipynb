{
 "cells": [
  {
   "cell_type": "code",
   "execution_count": 64,
   "metadata": {},
   "outputs": [],
   "source": [
    "import numpy as np\n",
    "import pandas as pd\n",
    "from datetime import datetime"
   ]
  },
  {
   "cell_type": "code",
   "execution_count": 65,
   "metadata": {},
   "outputs": [],
   "source": [
    "times =pd.read_fwf('mva_web_times.txt',index_col=1)"
   ]
  },
  {
   "cell_type": "code",
   "execution_count": 66,
   "metadata": {},
   "outputs": [],
   "source": [
    "err = [times.index[i] for i in range(len(times.index)) if times.index[i][-3:]=='err']\n",
    "out = [times.index[i] for i in range(len(times.index)) if times.index[i][-3:]=='out']"
   ]
  },
  {
   "cell_type": "code",
   "execution_count": 67,
   "metadata": {},
   "outputs": [],
   "source": [
    "str_out_times = [str(times.loc[out].iloc[i].values[0]) for i in range(len(out))]\n",
    "str_err_times = [str(times.loc[err].iloc[i].values[0]) for i in range(len(err))]"
   ]
  },
  {
   "cell_type": "code",
   "execution_count": 80,
   "metadata": {},
   "outputs": [],
   "source": [
    "FMT = '%H:%M:%S.%f'\n",
    "tdelta = [datetime.strptime(str_out_times[i], FMT) - datetime.strptime(str_err_times[i], FMT) for i in range(len(err))]"
   ]
  },
  {
   "cell_type": "code",
   "execution_count": 83,
   "metadata": {},
   "outputs": [],
   "source": [
    "seconds = [tdelta[i].seconds for i in range(len(tdelta))]"
   ]
  },
  {
   "cell_type": "markdown",
   "metadata": {},
   "source": [
    "Time for post processing with MVA (plus the MVA time which takes 30 minutes)"
   ]
  },
  {
   "cell_type": "code",
   "execution_count": 86,
   "metadata": {},
   "outputs": [
    {
     "data": {
      "text/plain": [
       "17.000833333333333"
      ]
     },
     "execution_count": 86,
     "metadata": {},
     "output_type": "execute_result"
    }
   ],
   "source": [
    "sum(seconds)/3600"
   ]
  },
  {
   "cell_type": "code",
   "execution_count": 126,
   "metadata": {},
   "outputs": [],
   "source": [
    "times =pd.read_fwf('x_web_times.txt',index_col=1)"
   ]
  },
  {
   "cell_type": "code",
   "execution_count": 127,
   "metadata": {},
   "outputs": [],
   "source": [
    "err = [times.index[i] for i in range(len(times.index)) if times.index[i][-3:]=='err']\n",
    "out = [times.index[i] for i in range(len(times.index)) if times.index[i][-3:]=='out']"
   ]
  },
  {
   "cell_type": "code",
   "execution_count": 128,
   "metadata": {},
   "outputs": [],
   "source": [
    "str_out_times = [str(times.loc[out].iloc[i].values[0]) for i in range(len(out))]\n",
    "str_err_times = [str(times.loc[err].iloc[i].values[0]) for i in range(len(err))]"
   ]
  },
  {
   "cell_type": "code",
   "execution_count": 132,
   "metadata": {},
   "outputs": [],
   "source": [
    "FMT = '%y-%m-%d,%H:%M:%S.%f'\n",
    "tdelta = [datetime.strptime(str_out_times[i], FMT) - datetime.strptime(str_err_times[i], FMT) for i in range(len(err))]"
   ]
  },
  {
   "cell_type": "code",
   "execution_count": 133,
   "metadata": {},
   "outputs": [],
   "source": [
    "seconds = [tdelta[i].seconds for i in range(len(tdelta))]"
   ]
  },
  {
   "cell_type": "code",
   "execution_count": 136,
   "metadata": {},
   "outputs": [
    {
     "data": {
      "text/plain": [
       "array([ 2.66722222,  1.39      ,  1.56194444,  1.62055556,  1.08694444,\n",
       "        2.09972222,  1.69972222,  1.3075    ,  1.7775    ,  1.49972222,\n",
       "        1.91305556,  1.51333333,  1.3225    ,  1.33833333,  1.86194444,\n",
       "        1.17722222,  1.57027778,  2.13416667,  1.77361111,  2.00694444,\n",
       "        1.15194444,  1.2675    ,  0.70972222,  1.47777778,  1.65777778,\n",
       "        2.29861111,  1.62666667,  1.26972222,  1.43472222,  1.15388889,\n",
       "        1.90083333,  0.96472222,  1.31388889,  1.26527778,  1.75055556,\n",
       "        0.84972222,  1.04527778, 18.59138889,  0.06972222,  0.09361111])"
      ]
     },
     "execution_count": 136,
     "metadata": {},
     "output_type": "execute_result"
    }
   ],
   "source": [
    "np.array(seconds)/3600"
   ]
  },
  {
   "cell_type": "markdown",
   "metadata": {},
   "source": [
    "The time for post processing without MVA."
   ]
  },
  {
   "cell_type": "code",
   "execution_count": 137,
   "metadata": {},
   "outputs": [
    {
     "data": {
      "text/plain": [
       "75.21555555555555"
      ]
     },
     "execution_count": 137,
     "metadata": {},
     "output_type": "execute_result"
    }
   ],
   "source": [
    "sum(seconds)/3600"
   ]
  },
  {
   "cell_type": "code",
   "execution_count": 139,
   "metadata": {},
   "outputs": [
    {
     "data": {
      "text/plain": [
       "656.2594444444444"
      ]
     },
     "execution_count": 139,
     "metadata": {},
     "output_type": "execute_result"
    }
   ],
   "source": [
    "times =pd.read_fwf('processing_times.txt',index_col=1)\n",
    "\n",
    "err = [times.index[i] for i in range(len(times.index)) if times.index[i][-3:]=='err']\n",
    "out = [times.index[i] for i in range(len(times.index)) if times.index[i][-3:]=='out']\n",
    "\n",
    "str_out_times = [str(times.loc[out].iloc[i].values[0]) for i in range(len(out))]\n",
    "str_err_times = [str(times.loc[err].iloc[i].values[0]) for i in range(len(err))]\n",
    "\n",
    "FMT = '%y-%m-%d,%H:%M:%S.%f'\n",
    "tdelta = [datetime.strptime(str_out_times[i], FMT) - datetime.strptime(str_err_times[i], FMT) for i in range(len(err))]\n",
    "\n",
    "seconds = [tdelta[i].seconds for i in range(len(tdelta))]\n",
    "\n",
    "np.array(seconds)/3600\n",
    "\n",
    "#The time for processing time.\n",
    "\n",
    "sum(seconds)/3600"
   ]
  },
  {
   "cell_type": "code",
   "execution_count": null,
   "metadata": {},
   "outputs": [],
   "source": []
  }
 ],
 "metadata": {
  "kernelspec": {
   "display_name": "Python 3",
   "language": "python",
   "name": "python3"
  },
  "language_info": {
   "codemirror_mode": {
    "name": "ipython",
    "version": 3
   },
   "file_extension": ".py",
   "mimetype": "text/x-python",
   "name": "python",
   "nbconvert_exporter": "python",
   "pygments_lexer": "ipython3",
   "version": "3.6.4"
  }
 },
 "nbformat": 4,
 "nbformat_minor": 2
}
