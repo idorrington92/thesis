{
 "cells": [
  {
   "cell_type": "code",
   "execution_count": 1,
   "metadata": {},
   "outputs": [],
   "source": [
    "import numpy as np\n",
    "import os\n",
    "from collections import Counter\n",
    "import pandas as pd"
   ]
  },
  {
   "cell_type": "code",
   "execution_count": 2,
   "metadata": {},
   "outputs": [],
   "source": [
    "mva_sgc =pd.read_fwf('mva_csg150_50pc_injscale.txt',index_col=0)\n",
    "mva_sgc = mva_sgc.drop('170817')\n",
    "mva_sgc = mva_sgc.drop('E264930')\n",
    "mva_adi =pd.read_fwf('mva_adi-a_50pc_injscale.txt',index_col=0)\n",
    "mva_adi = mva_adi.drop('170817')\n",
    "mva_adi = mva_adi.drop('E264930')"
   ]
  },
  {
   "cell_type": "code",
   "execution_count": 3,
   "metadata": {},
   "outputs": [],
   "source": [
    "x_sgc =pd.read_fwf('x_csg150_50pc_injscale.txt',index_col=0)\n",
    "x_sgc = x_sgc.drop('E264930')\n",
    "x_adi =pd.read_fwf('x_adi-a_50pc_injscale.txt',index_col=0)\n",
    "x_adi = x_adi.drop('E264930')"
   ]
  },
  {
   "cell_type": "code",
   "execution_count": 10,
   "metadata": {},
   "outputs": [],
   "source": [
    "plot_df = pd.concat([x_adi, mva_adi],axis=1)"
   ]
  },
  {
   "cell_type": "code",
   "execution_count": 11,
   "metadata": {},
   "outputs": [
    {
     "data": {
      "image/png": "[encoded data removed]",
      "text/plain": [
       "<matplotlib.figure.Figure at 0x11fc4a908>"
      ]
     },
     "metadata": {},
     "output_type": "display_data"
    }
   ],
   "source": [
    "plot = plot_df.plot(kind='bar')\n",
    "plot.set_ylabel(\"Injection 50% UL for ADI-a\")\n",
    "plot.legend(bbox_to_anchor=(1.1, 1.1))\n",
    "fig = plot.get_figure()\n",
    "\n",
    "#fig.savefig(fd+\"/\"+args.page_name[0]+\".png\",bbox_inches='tight')"
   ]
  },
  {
   "cell_type": "code",
   "execution_count": 7,
   "metadata": {},
   "outputs": [],
   "source": [
    "plot_df = pd.concat([x_sgc, mva_sgc],axis=1)"
   ]
  },
  {
   "cell_type": "code",
   "execution_count": 8,
   "metadata": {},
   "outputs": [
    {
     "data": {
      "image/png": "[encoded data removed]",
      "text/plain": [
       "<matplotlib.figure.Figure at 0x11fa91198>"
      ]
     },
     "metadata": {},
     "output_type": "display_data"
    }
   ],
   "source": [
    "plot = plot_df.plot(kind='bar')\n",
    "plot.set_ylabel(\"Injection 50% UL for CSG\")\n",
    "plot.legend(bbox_to_anchor=(1.1, 1.1))\n",
    "fig = plot.get_figure()\n",
    "\n",
    "#fig.savefig(fd+\"/\"+args.page_name[0]+\".png\",bbox_inches='tight')"
   ]
  },
  {
   "cell_type": "code",
   "execution_count": 12,
   "metadata": {},
   "outputs": [
    {
     "data": {
      "text/plain": [
       "X-pipeline    0.945129\n",
       "dtype: float64"
      ]
     },
     "execution_count": 12,
     "metadata": {},
     "output_type": "execute_result"
    }
   ],
   "source": [
    "x_sgc.median(axis=0)"
   ]
  },
  {
   "cell_type": "code",
   "execution_count": 13,
   "metadata": {},
   "outputs": [
    {
     "data": {
      "text/plain": [
       "MVA    0.723649\n",
       "dtype: float64"
      ]
     },
     "execution_count": 13,
     "metadata": {},
     "output_type": "execute_result"
    }
   ],
   "source": [
    "mva_sgc.median(axis=0)"
   ]
  },
  {
   "cell_type": "code",
   "execution_count": 14,
   "metadata": {},
   "outputs": [
    {
     "data": {
      "text/plain": [
       "X-pipeline    0.308376\n",
       "dtype: float64"
      ]
     },
     "execution_count": 14,
     "metadata": {},
     "output_type": "execute_result"
    }
   ],
   "source": [
    "x_adi.median(axis=0)"
   ]
  },
  {
   "cell_type": "code",
   "execution_count": 15,
   "metadata": {},
   "outputs": [
    {
     "data": {
      "text/plain": [
       "MVA    0.238171\n",
       "dtype: float64"
      ]
     },
     "execution_count": 15,
     "metadata": {},
     "output_type": "execute_result"
    }
   ],
   "source": [
    "mva_adi.median(axis=0)"
   ]
  },
  {
   "cell_type": "code",
   "execution_count": 16,
   "metadata": {},
   "outputs": [],
   "source": [
    "sgchrss =pd.read_fwf('csg_hrss90.txt',index_col=0)\n",
    "sgchrss = sgchrss.drop('170817')\n",
    "sgchrss = sgchrss.drop('E264930')\n",
    "adia90 =pd.read_fwf('adi_a_injscale90.txt',index_col=0)\n",
    "adia90 = adia90.drop('170817')\n",
    "adia90 = adia90.drop('E264930')"
   ]
  },
  {
   "cell_type": "code",
   "execution_count": 17,
   "metadata": {},
   "outputs": [],
   "source": [
    "import scipy.constants as const\n",
    "from astropy.constants import M_sun"
   ]
  },
  {
   "cell_type": "code",
   "execution_count": 18,
   "metadata": {},
   "outputs": [],
   "source": [
    "f0 = 150\n",
    "c=const.c\n",
    "pi=const.pi\n",
    "E = 0.01*M_sun*c**2\n",
    "G=const.G\n",
    "A=5/2"
   ]
  },
  {
   "cell_type": "code",
   "execution_count": 19,
   "metadata": {},
   "outputs": [],
   "source": [
    "dist = np.sqrt(A*E*G/(pi**2*c**3*f0**2*sgchrss**2))/3.086e+22"
   ]
  },
  {
   "cell_type": "code",
   "execution_count": 20,
   "metadata": {},
   "outputs": [],
   "source": [
    "dist = np.sort([dist[i][0].value for i in range(len(dist))])"
   ]
  },
  {
   "cell_type": "code",
   "execution_count": 21,
   "metadata": {},
   "outputs": [],
   "source": [
    "csg_dist = dist"
   ]
  },
  {
   "cell_type": "code",
   "execution_count": 22,
   "metadata": {},
   "outputs": [],
   "source": [
    "adi_dist = np.array(20/adia90)"
   ]
  },
  {
   "cell_type": "code",
   "execution_count": 23,
   "metadata": {},
   "outputs": [],
   "source": [
    "adi_dist = np.sort([adi_dist[i][0] for i in range(len(adi_dist))])"
   ]
  },
  {
   "cell_type": "code",
   "execution_count": 24,
   "metadata": {},
   "outputs": [
    {
     "data": {
      "text/plain": [
       "array([32.59393981, 38.05522574, 45.90346043, 47.58041685, 48.70683357,\n",
       "       56.23727632, 65.62799428, 65.99244387, 66.65933414, 76.63481213,\n",
       "       85.76145451, 95.57305604, 97.02708996])"
      ]
     },
     "execution_count": 24,
     "metadata": {},
     "output_type": "execute_result"
    }
   ],
   "source": [
    "adi_dist"
   ]
  },
  {
   "cell_type": "code",
   "execution_count": 25,
   "metadata": {},
   "outputs": [],
   "source": [
    "import matplotlib\n",
    "import matplotlib.pyplot as plt"
   ]
  },
  {
   "cell_type": "code",
   "execution_count": 26,
   "metadata": {
    "scrolled": false
   },
   "outputs": [
    {
     "data": {
      "text/plain": [
       "array([ 47.59303495,  52.33835832,  52.75246687,  56.84335099,\n",
       "        73.52027991,  74.77974944,  76.98814457,  77.19361081,\n",
       "        82.14114943, 108.29630939, 109.16804297, 112.83887208,\n",
       "       117.79339311])"
      ]
     },
     "execution_count": 26,
     "metadata": {},
     "output_type": "execute_result"
    }
   ],
   "source": [
    "csg_dist"
   ]
  },
  {
   "cell_type": "code",
   "execution_count": 27,
   "metadata": {},
   "outputs": [
    {
     "data": {
      "text/plain": [
       "array([32.59393981, 38.05522574, 45.90346043, 47.58041685, 48.70683357,\n",
       "       56.23727632, 65.62799428, 65.99244387, 66.65933414, 76.63481213,\n",
       "       85.76145451, 95.57305604, 97.02708996])"
      ]
     },
     "execution_count": 27,
     "metadata": {},
     "output_type": "execute_result"
    }
   ],
   "source": [
    "adi_dist"
   ]
  },
  {
   "cell_type": "code",
   "execution_count": 28,
   "metadata": {},
   "outputs": [],
   "source": [
    "adi_dist = np.append(adi_dist,max(csg_dist)*5)\n",
    "csg_dist = np.append(csg_dist,max(csg_dist)*5)\n",
    "#sorted_nsbh_align_ex.append(max(sorted_nsbh_align_ex)*5)\n",
    "hist_xlim=(adi_dist[0]/2.5, csg_dist[-2]*2.5)\n",
    "#hist_xlim=(adi_dist[0]/2.5, sorted_nsbh_align_ex[-2]*2.5)\n",
    "\n",
    "matplotlib.rcParams['text.usetex'] = True\n",
    "matplotlib.rcParams['font.family'] = 'serif'\n",
    "matplotlib.rcParams['font.serif'] = 'Computer Modern Roman'\n",
    "matplotlib.rcParams['text.latex.preamble'] = [r'\\usepackage{amsmath}']\n",
    "matplotlib.rcParams.update({'font.size': 26})\n"
   ]
  },
  {
   "cell_type": "code",
   "execution_count": 29,
   "metadata": {},
   "outputs": [
    {
     "data": {
      "image/png": "[encoded data removed]",
      "text/plain": [
       "<matplotlib.figure.Figure at 0x120554ba8>"
      ]
     },
     "metadata": {},
     "output_type": "display_data"
    }
   ],
   "source": [
    "\n",
    "# Make plot\n",
    "fig = plt.figure(figsize=(10,10))\n",
    "ax = fig.gca()\n",
    "ax.set_xscale('log')\n",
    "ax.set_xlim(hist_xlim)\n",
    "ax.set_ylim([0,len(csg_dist)-1])\n",
    "ax.hist(adi_dist,bins=len(adi_dist)*10,label='ADI-a',linewidth=5.,cumulative=True,histtype='step')\n",
    "ax.hist(csg_dist,bins=len(csg_dist)*10,label='CSG 150 Hz',linewidth=5.,cumulative=True,histtype='step')\n",
    "\n",
    "# Make legend lines not box\n",
    "handles, labels = ax.get_legend_handles_labels()\n",
    "new_handles = [matplotlib.lines.Line2D([], [], c=h.get_edgecolor(),\n",
    "                                       linewidth=5.) for h in handles]\n",
    "ax.legend(handles=new_handles, labels=labels, loc='upper left', fontsize=22)\n",
    "\n",
    "#plt.legend(loc='best')\n",
    "ax.set_xlabel('Exclusion Distance (Mpc)')\n",
    "ax.set_ylabel('Number of GRBs')\n",
    "ax.grid()\n",
    "plt.tight_layout()\n"
   ]
  },
  {
   "cell_type": "code",
   "execution_count": null,
   "metadata": {},
   "outputs": [],
   "source": []
  },
  {
   "cell_type": "code",
   "execution_count": null,
   "metadata": {},
   "outputs": [],
   "source": []
  }
 ],
 "metadata": {
  "kernelspec": {
   "display_name": "Python 3",
   "language": "python",
   "name": "python3"
  },
  "language_info": {
   "codemirror_mode": {
    "name": "ipython",
    "version": 3
   },
   "file_extension": ".py",
   "mimetype": "text/x-python",
   "name": "python",
   "nbconvert_exporter": "python",
   "pygments_lexer": "ipython3",
   "version": "3.6.4"
  }
 },
 "nbformat": 4,
 "nbformat_minor": 2
}
